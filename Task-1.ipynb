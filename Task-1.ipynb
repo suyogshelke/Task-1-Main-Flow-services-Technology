{
 "cells": [
  {
   "cell_type": "code",
   "execution_count": 7,
   "id": "8d6c18d5",
   "metadata": {},
   "outputs": [
    {
     "name": "stdout",
     "output_type": "stream",
     "text": [
      "Updated list: [9, 3, 4, 5]\n"
     ]
    }
   ],
   "source": [
    "# List creation\n",
    "my_list = [1, 2, 3,4]\n",
    "\n",
    "# Adding an element to the list\n",
    "my_list.append(5)\n",
    "\n",
    "# Removing an element from the list\n",
    "my_list.remove(2)\n",
    "\n",
    "# Modifying an element in the list\n",
    "my_list[0] = 9\n",
    "\n",
    "print(\"Updated list:\",my_list)\n"
   ]
  },
  {
   "cell_type": "code",
   "execution_count": 8,
   "id": "39175da2",
   "metadata": {},
   "outputs": [
    {
     "name": "stdout",
     "output_type": "stream",
     "text": [
      "Updated Dictionary: {'name': 'vicky', 'city': 'Mumbai', 'gender': 'M'}\n"
     ]
    }
   ],
   "source": [
    "# Dictionary creation\n",
    "my_dict = {'name': 'vicky', 'age': '21', 'city': 'pune'}\n",
    "\n",
    "# Adding a key-value pair\n",
    "my_dict['gender'] = 'M'\n",
    "\n",
    "# Removing a key-value pair \n",
    "del my_dict['age']\n",
    "\n",
    "# Modifying a value in the dictionary\n",
    "my_dict['city'] = 'Mumbai'\n",
    "\n",
    "print(\"Updated Dictionary:\", my_dict)"
   ]
  },
  {
   "cell_type": "code",
   "execution_count": 9,
   "id": "cd5eb791",
   "metadata": {},
   "outputs": [
    {
     "name": "stdout",
     "output_type": "stream",
     "text": [
      "Updated set: {1, 3, 4, 5, 7, 9}\n"
     ]
    }
   ],
   "source": [
    "# Set creation\n",
    "my_set = {1, 2, 3,4,5,6}\n",
    "\n",
    "# Adding an element to the set\n",
    "my_set.add(7)\n",
    "\n",
    "# Removing an element from the set\n",
    "my_set.remove(6)\n",
    "\n",
    "# Modifying a element\n",
    "my_set.add(9)\n",
    "my_set.discard(2)\n",
    "\n",
    "print(\"Updated set:\", my_set)\n",
    "\n"
   ]
  },
  {
   "cell_type": "code",
   "execution_count": null,
   "id": "471d6edd",
   "metadata": {},
   "outputs": [],
   "source": []
  }
 ],
 "metadata": {
  "kernelspec": {
   "display_name": "Python 3 (ipykernel)",
   "language": "python",
   "name": "python3"
  },
  "language_info": {
   "codemirror_mode": {
    "name": "ipython",
    "version": 3
   },
   "file_extension": ".py",
   "mimetype": "text/x-python",
   "name": "python",
   "nbconvert_exporter": "python",
   "pygments_lexer": "ipython3",
   "version": "3.9.13"
  }
 },
 "nbformat": 4,
 "nbformat_minor": 5
}
